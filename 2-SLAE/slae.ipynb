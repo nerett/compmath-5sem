{
 "cells": [
  {
   "cell_type": "code",
   "execution_count": 1,
   "metadata": {},
   "outputs": [
    {
     "name": "stdout",
     "output_type": "stream",
     "text": [
      "1.26.0\n",
      "3.8.0\n",
      "1.11.2\n"
     ]
    }
   ],
   "source": [
    "import numpy as np\n",
    "import matplotlib.pyplot as plt\n",
    "import matplotlib\n",
    "import scipy.linalg\n",
    "import scipy\n",
    "\n",
    "print(np.__version__)\n",
    "print(matplotlib.__version__)\n",
    "print(scipy.__version__)"
   ]
  },
  {
   "cell_type": "code",
   "execution_count": 2,
   "metadata": {},
   "outputs": [
    {
     "data": {
      "text/plain": [
       "matrix([[10.,  1.,  0., ...,  0.,  0.,  0.],\n",
       "        [ 1., 10.,  1., ...,  0.,  0.,  0.],\n",
       "        [ 0.,  1., 10., ...,  0.,  0.,  0.],\n",
       "        ...,\n",
       "        [ 0.,  0.,  0., ..., 10.,  1.,  0.],\n",
       "        [ 0.,  0.,  0., ...,  1., 10.,  1.],\n",
       "        [ 1.,  1.,  1., ...,  1.,  1.,  1.]])"
      ]
     },
     "execution_count": 2,
     "metadata": {},
     "output_type": "execute_result"
    }
   ],
   "source": [
    "n = 99\n",
    "a, b, c, p = 1, 10, 1, 1\n",
    "\n",
    "A = np.matrix(np.zeros((n + 1, n + 1)))\n",
    "i, j = np.indices(A.shape)\n",
    "A[i==j + 1] = a\n",
    "A[i==j] = b\n",
    "A[i==j - 1] = c\n",
    "A[n, j] = p\n",
    "\n",
    "f = np.matrix(np.zeros((n + 1, 1)))\n",
    "k, l = np.indices(f.shape)\n",
    "f[k, 0] = k + 1\n",
    "\n",
    "A"
   ]
  },
  {
   "cell_type": "code",
   "execution_count": 3,
   "metadata": {},
   "outputs": [],
   "source": [
    "def normVector(v):\n",
    "    return np.linalg.norm(v)\n",
    "\n",
    "def __calcResidual(A, f, X):\n",
    "    r = np.matrix(np.zeros((n + 1, 1)))\n",
    "    r = A * X - f\n",
    "    \n",
    "    return r\n",
    "\n",
    "def calcResidual(A, f, X):\n",
    "    return normVector(__calcResidual(A, f, X))"
   ]
  },
  {
   "cell_type": "code",
   "execution_count": 4,
   "metadata": {},
   "outputs": [],
   "source": [
    "def makePlot(y, title):\n",
    "    plt.figure(figsize=(20, 10))\n",
    "\n",
    "    x = np.arange(len(y))\n",
    "    plt.plot(x, y, 'o--')\n",
    "    plt.xlabel(r'$ iteration $', fontsize=16)\n",
    "    plt.ylabel(r'$ ||r|| $', fontsize=16)\n",
    "\n",
    "    plt.title(title, fontsize=16)\n",
    "    plt.grid()\n",
    "    #plt.legend(fontsize=16)\n",
    "    plt.show()"
   ]
  },
  {
   "cell_type": "markdown",
   "metadata": {},
   "source": [
    "## Gauss"
   ]
  },
  {
   "cell_type": "code",
   "execution_count": 5,
   "metadata": {},
   "outputs": [],
   "source": [
    "def solveGauss(A, f, n):\n",
    "    A = np.matrix(A)\n",
    "    f = np.matrix(f)\n",
    "\n",
    "    for j in range(n):\n",
    "        max_ind = j + np.argmax(np.abs(A[j:, j]))\n",
    "        if max_ind != j:\n",
    "            A[j, :], A[max_ind, :] = np.copy(A[max_ind, :]), np.copy(A[j, :])\n",
    "            f[j, :], f[max_ind, :] = np.copy(f[max_ind, :]), np.copy(f[j, :])\n",
    "\n",
    "        for i in range(j + 1, n + 1):\n",
    "            frac = A[i, j] / A[j, j]\n",
    "            #print(frac)\n",
    "            A[i, :] -= A[j, :] * frac\n",
    "            f[i, :] -= f[j, :] * frac\n",
    "    \n",
    "    if np.any(np.isclose(np.diag(A), 0.0)):\n",
    "        raise Exception(\"Infinite number of solutions!\")\n",
    "\n",
    "    X = np.matrix(np.zeros((n + 1, 1)))\n",
    "    for i in range(n, -1, -1):\n",
    "        X[i, 0] = (f[i, 0] - A[i, i:] * X[i:, 0]) / A[i, i]\n",
    "\n",
    "    return X"
   ]
  },
  {
   "cell_type": "code",
   "execution_count": 6,
   "metadata": {},
   "outputs": [
    {
     "name": "stderr",
     "output_type": "stream",
     "text": [
      "/tmp/ipykernel_22336/1085303398.py:25: DeprecationWarning: Conversion of an array with ndim > 0 to a scalar is deprecated, and will error in future. Ensure you extract a single element from your array before performing this operation. (Deprecated NumPy 1.25.)\n",
      "  X[i, 0] = (f[i, 0] - A[i, i:] * X[i:, 0]) / A[i, i]\n"
     ]
    },
    {
     "data": {
      "text/plain": [
       "matrix([[ 8.33333333e-02],\n",
       "        [ 1.66666667e-01],\n",
       "        [ 2.50000000e-01],\n",
       "        [ 3.33333333e-01],\n",
       "        [ 4.16666667e-01],\n",
       "        [ 5.00000000e-01],\n",
       "        [ 5.83333333e-01],\n",
       "        [ 6.66666667e-01],\n",
       "        [ 7.50000000e-01],\n",
       "        [ 8.33333333e-01],\n",
       "        [ 9.16666667e-01],\n",
       "        [ 1.00000000e+00],\n",
       "        [ 1.08333333e+00],\n",
       "        [ 1.16666667e+00],\n",
       "        [ 1.25000000e+00],\n",
       "        [ 1.33333333e+00],\n",
       "        [ 1.41666667e+00],\n",
       "        [ 1.50000000e+00],\n",
       "        [ 1.58333333e+00],\n",
       "        [ 1.66666667e+00],\n",
       "        [ 1.75000000e+00],\n",
       "        [ 1.83333333e+00],\n",
       "        [ 1.91666667e+00],\n",
       "        [ 2.00000000e+00],\n",
       "        [ 2.08333333e+00],\n",
       "        [ 2.16666667e+00],\n",
       "        [ 2.25000000e+00],\n",
       "        [ 2.33333333e+00],\n",
       "        [ 2.41666667e+00],\n",
       "        [ 2.50000000e+00],\n",
       "        [ 2.58333333e+00],\n",
       "        [ 2.66666667e+00],\n",
       "        [ 2.75000000e+00],\n",
       "        [ 2.83333333e+00],\n",
       "        [ 2.91666667e+00],\n",
       "        [ 3.00000000e+00],\n",
       "        [ 3.08333333e+00],\n",
       "        [ 3.16666667e+00],\n",
       "        [ 3.25000000e+00],\n",
       "        [ 3.33333333e+00],\n",
       "        [ 3.41666667e+00],\n",
       "        [ 3.50000000e+00],\n",
       "        [ 3.58333333e+00],\n",
       "        [ 3.66666667e+00],\n",
       "        [ 3.75000000e+00],\n",
       "        [ 3.83333333e+00],\n",
       "        [ 3.91666667e+00],\n",
       "        [ 4.00000000e+00],\n",
       "        [ 4.08333333e+00],\n",
       "        [ 4.16666667e+00],\n",
       "        [ 4.25000000e+00],\n",
       "        [ 4.33333333e+00],\n",
       "        [ 4.41666667e+00],\n",
       "        [ 4.50000000e+00],\n",
       "        [ 4.58333333e+00],\n",
       "        [ 4.66666667e+00],\n",
       "        [ 4.75000000e+00],\n",
       "        [ 4.83333333e+00],\n",
       "        [ 4.91666667e+00],\n",
       "        [ 5.00000000e+00],\n",
       "        [ 5.08333333e+00],\n",
       "        [ 5.16666667e+00],\n",
       "        [ 5.25000000e+00],\n",
       "        [ 5.33333333e+00],\n",
       "        [ 5.41666667e+00],\n",
       "        [ 5.50000000e+00],\n",
       "        [ 5.58333333e+00],\n",
       "        [ 5.66666667e+00],\n",
       "        [ 5.75000000e+00],\n",
       "        [ 5.83333333e+00],\n",
       "        [ 5.91666667e+00],\n",
       "        [ 6.00000000e+00],\n",
       "        [ 6.08333333e+00],\n",
       "        [ 6.16666667e+00],\n",
       "        [ 6.25000000e+00],\n",
       "        [ 6.33333333e+00],\n",
       "        [ 6.41666667e+00],\n",
       "        [ 6.50000000e+00],\n",
       "        [ 6.58333333e+00],\n",
       "        [ 6.66666667e+00],\n",
       "        [ 6.75000000e+00],\n",
       "        [ 6.83333333e+00],\n",
       "        [ 6.91666667e+00],\n",
       "        [ 7.00000000e+00],\n",
       "        [ 7.08333333e+00],\n",
       "        [ 7.16666667e+00],\n",
       "        [ 7.25000000e+00],\n",
       "        [ 7.33333333e+00],\n",
       "        [ 7.41666667e+00],\n",
       "        [ 7.49999996e+00],\n",
       "        [ 7.58333372e+00],\n",
       "        [ 7.66666284e+00],\n",
       "        [ 7.75003793e+00],\n",
       "        [ 7.83295790e+00],\n",
       "        [ 7.92038307e+00],\n",
       "        [ 7.96321141e+00],\n",
       "        [ 8.44750288e+00],\n",
       "        [ 4.56175983e+00],\n",
       "        [ 4.39348989e+01],\n",
       "        [-3.44910748e+02]])"
      ]
     },
     "execution_count": 6,
     "metadata": {},
     "output_type": "execute_result"
    }
   ],
   "source": [
    "solution = solveGauss(A, f, n)\n",
    "solution"
   ]
  },
  {
   "cell_type": "code",
   "execution_count": 7,
   "metadata": {},
   "outputs": [
    {
     "data": {
      "text/plain": [
       "1.0883946155170226e-13"
      ]
     },
     "execution_count": 7,
     "metadata": {},
     "output_type": "execute_result"
    }
   ],
   "source": [
    "calcResidual(A, f, solution)"
   ]
  },
  {
   "cell_type": "markdown",
   "metadata": {},
   "source": [
    "## LU-decomposition"
   ]
  },
  {
   "cell_type": "code",
   "execution_count": 8,
   "metadata": {},
   "outputs": [],
   "source": [
    "def __decomposeLU(A):\n",
    "    P, L, U = scipy.linalg.lu(A)\n",
    "\n",
    "    L = np.matrix(L)\n",
    "    U = np.matrix(U)\n",
    "    return np.matrix(L), np.matrix(U)\n",
    "\n",
    "def solveLU(A, f, n):\n",
    "    A = np.matrix(A)\n",
    "    f = np.matrix(f)\n",
    "    L, U = __decomposeLU(A)\n",
    "\n",
    "    Y = np.matrix(np.zeros((n + 1, 1)))\n",
    "\n",
    "    for i in range(n + 1):\n",
    "        Y[i, 0] = f[i] - L[i, :i] * Y[:i]\n",
    "\n",
    "    X = np.matrix(np.zeros((n + 1, 1)))\n",
    "\n",
    "    for i in range(n, -1, -1):\n",
    "        X[i, 0] = (Y[i] - U[i, i:] * X[i:, 0]) / U[i, i]\n",
    "\n",
    "    return X\n",
    "    "
   ]
  },
  {
   "cell_type": "code",
   "execution_count": 9,
   "metadata": {},
   "outputs": [
    {
     "name": "stderr",
     "output_type": "stream",
     "text": [
      "/tmp/ipykernel_22336/1046170112.py:16: DeprecationWarning: Conversion of an array with ndim > 0 to a scalar is deprecated, and will error in future. Ensure you extract a single element from your array before performing this operation. (Deprecated NumPy 1.25.)\n",
      "  Y[i, 0] = f[i] - L[i, :i] * Y[:i]\n",
      "/tmp/ipykernel_22336/1046170112.py:21: DeprecationWarning: Conversion of an array with ndim > 0 to a scalar is deprecated, and will error in future. Ensure you extract a single element from your array before performing this operation. (Deprecated NumPy 1.25.)\n",
      "  X[i, 0] = (Y[i] - U[i, i:] * X[i:, 0]) / U[i, i]\n"
     ]
    },
    {
     "data": {
      "text/plain": [
       "matrix([[ 8.33333333e-02],\n",
       "        [ 1.66666667e-01],\n",
       "        [ 2.50000000e-01],\n",
       "        [ 3.33333333e-01],\n",
       "        [ 4.16666667e-01],\n",
       "        [ 5.00000000e-01],\n",
       "        [ 5.83333333e-01],\n",
       "        [ 6.66666667e-01],\n",
       "        [ 7.50000000e-01],\n",
       "        [ 8.33333333e-01],\n",
       "        [ 9.16666667e-01],\n",
       "        [ 1.00000000e+00],\n",
       "        [ 1.08333333e+00],\n",
       "        [ 1.16666667e+00],\n",
       "        [ 1.25000000e+00],\n",
       "        [ 1.33333333e+00],\n",
       "        [ 1.41666667e+00],\n",
       "        [ 1.50000000e+00],\n",
       "        [ 1.58333333e+00],\n",
       "        [ 1.66666667e+00],\n",
       "        [ 1.75000000e+00],\n",
       "        [ 1.83333333e+00],\n",
       "        [ 1.91666667e+00],\n",
       "        [ 2.00000000e+00],\n",
       "        [ 2.08333333e+00],\n",
       "        [ 2.16666667e+00],\n",
       "        [ 2.25000000e+00],\n",
       "        [ 2.33333333e+00],\n",
       "        [ 2.41666667e+00],\n",
       "        [ 2.50000000e+00],\n",
       "        [ 2.58333333e+00],\n",
       "        [ 2.66666667e+00],\n",
       "        [ 2.75000000e+00],\n",
       "        [ 2.83333333e+00],\n",
       "        [ 2.91666667e+00],\n",
       "        [ 3.00000000e+00],\n",
       "        [ 3.08333333e+00],\n",
       "        [ 3.16666667e+00],\n",
       "        [ 3.25000000e+00],\n",
       "        [ 3.33333333e+00],\n",
       "        [ 3.41666667e+00],\n",
       "        [ 3.50000000e+00],\n",
       "        [ 3.58333333e+00],\n",
       "        [ 3.66666667e+00],\n",
       "        [ 3.75000000e+00],\n",
       "        [ 3.83333333e+00],\n",
       "        [ 3.91666667e+00],\n",
       "        [ 4.00000000e+00],\n",
       "        [ 4.08333333e+00],\n",
       "        [ 4.16666667e+00],\n",
       "        [ 4.25000000e+00],\n",
       "        [ 4.33333333e+00],\n",
       "        [ 4.41666667e+00],\n",
       "        [ 4.50000000e+00],\n",
       "        [ 4.58333333e+00],\n",
       "        [ 4.66666667e+00],\n",
       "        [ 4.75000000e+00],\n",
       "        [ 4.83333333e+00],\n",
       "        [ 4.91666667e+00],\n",
       "        [ 5.00000000e+00],\n",
       "        [ 5.08333333e+00],\n",
       "        [ 5.16666667e+00],\n",
       "        [ 5.25000000e+00],\n",
       "        [ 5.33333333e+00],\n",
       "        [ 5.41666667e+00],\n",
       "        [ 5.50000000e+00],\n",
       "        [ 5.58333333e+00],\n",
       "        [ 5.66666667e+00],\n",
       "        [ 5.75000000e+00],\n",
       "        [ 5.83333333e+00],\n",
       "        [ 5.91666667e+00],\n",
       "        [ 6.00000000e+00],\n",
       "        [ 6.08333333e+00],\n",
       "        [ 6.16666667e+00],\n",
       "        [ 6.25000000e+00],\n",
       "        [ 6.33333333e+00],\n",
       "        [ 6.41666667e+00],\n",
       "        [ 6.50000000e+00],\n",
       "        [ 6.58333333e+00],\n",
       "        [ 6.66666667e+00],\n",
       "        [ 6.75000000e+00],\n",
       "        [ 6.83333333e+00],\n",
       "        [ 6.91666667e+00],\n",
       "        [ 7.00000000e+00],\n",
       "        [ 7.08333333e+00],\n",
       "        [ 7.16666667e+00],\n",
       "        [ 7.25000000e+00],\n",
       "        [ 7.33333333e+00],\n",
       "        [ 7.41666667e+00],\n",
       "        [ 7.49999996e+00],\n",
       "        [ 7.58333372e+00],\n",
       "        [ 7.66666284e+00],\n",
       "        [ 7.75003793e+00],\n",
       "        [ 7.83295790e+00],\n",
       "        [ 7.92038307e+00],\n",
       "        [ 7.96321141e+00],\n",
       "        [ 8.44750288e+00],\n",
       "        [ 4.56175983e+00],\n",
       "        [ 4.39348989e+01],\n",
       "        [-3.44910748e+02]])"
      ]
     },
     "execution_count": 9,
     "metadata": {},
     "output_type": "execute_result"
    }
   ],
   "source": [
    "solution = solveLU(A, f, n)\n",
    "solution"
   ]
  },
  {
   "cell_type": "code",
   "execution_count": 10,
   "metadata": {},
   "outputs": [
    {
     "data": {
      "text/plain": [
       "7.868591628900475e-14"
      ]
     },
     "execution_count": 10,
     "metadata": {},
     "output_type": "execute_result"
    }
   ],
   "source": [
    "calcResidual(A, f, solution)"
   ]
  },
  {
   "cell_type": "markdown",
   "metadata": {},
   "source": [
    "## Seidel"
   ]
  },
  {
   "cell_type": "code",
   "execution_count": 11,
   "metadata": {},
   "outputs": [],
   "source": [
    "def solveSeidel(A, f, n, delta_th):\n",
    "    A = np.matrix(A)\n",
    "    f = np.matrix(f)\n",
    "    \n",
    "    X = np.matrix(np.zeros((n + 1, 1)))\n",
    "    rs = list()\n",
    "\n",
    "    while True:\n",
    "        prev_X = np.matrix(X)\n",
    "\n",
    "        for i in range(n + 1):\n",
    "            X[i] = (f[i] - (A[i, :i] * X[:i] + A[i, i+1:] * X[i+1:])) / A[i, i]\n",
    "\n",
    "        rs.append(calcResidual(A, f, X))\n",
    "        if normVector(X - prev_X) < delta_th:\n",
    "            break\n",
    "    \n",
    "    return X, np.array(rs)"
   ]
  },
  {
   "cell_type": "code",
   "execution_count": 12,
   "metadata": {},
   "outputs": [
    {
     "data": {
      "text/plain": [
       "matrix([[ 8.33333337e-02],\n",
       "        [ 1.66666667e-01],\n",
       "        [ 2.50000000e-01],\n",
       "        [ 3.33333334e-01],\n",
       "        [ 4.16666667e-01],\n",
       "        [ 5.00000001e-01],\n",
       "        [ 5.83333334e-01],\n",
       "        [ 6.66666667e-01],\n",
       "        [ 7.50000001e-01],\n",
       "        [ 8.33333334e-01],\n",
       "        [ 9.16666667e-01],\n",
       "        [ 1.00000000e+00],\n",
       "        [ 1.08333333e+00],\n",
       "        [ 1.16666667e+00],\n",
       "        [ 1.25000000e+00],\n",
       "        [ 1.33333333e+00],\n",
       "        [ 1.41666667e+00],\n",
       "        [ 1.50000000e+00],\n",
       "        [ 1.58333333e+00],\n",
       "        [ 1.66666667e+00],\n",
       "        [ 1.75000000e+00],\n",
       "        [ 1.83333333e+00],\n",
       "        [ 1.91666667e+00],\n",
       "        [ 2.00000000e+00],\n",
       "        [ 2.08333333e+00],\n",
       "        [ 2.16666667e+00],\n",
       "        [ 2.25000000e+00],\n",
       "        [ 2.33333333e+00],\n",
       "        [ 2.41666667e+00],\n",
       "        [ 2.50000000e+00],\n",
       "        [ 2.58333333e+00],\n",
       "        [ 2.66666667e+00],\n",
       "        [ 2.75000000e+00],\n",
       "        [ 2.83333333e+00],\n",
       "        [ 2.91666667e+00],\n",
       "        [ 3.00000000e+00],\n",
       "        [ 3.08333333e+00],\n",
       "        [ 3.16666667e+00],\n",
       "        [ 3.25000000e+00],\n",
       "        [ 3.33333334e+00],\n",
       "        [ 3.41666667e+00],\n",
       "        [ 3.50000000e+00],\n",
       "        [ 3.58333334e+00],\n",
       "        [ 3.66666667e+00],\n",
       "        [ 3.75000000e+00],\n",
       "        [ 3.83333334e+00],\n",
       "        [ 3.91666667e+00],\n",
       "        [ 4.00000000e+00],\n",
       "        [ 4.08333334e+00],\n",
       "        [ 4.16666667e+00],\n",
       "        [ 4.25000000e+00],\n",
       "        [ 4.33333334e+00],\n",
       "        [ 4.41666667e+00],\n",
       "        [ 4.50000000e+00],\n",
       "        [ 4.58333334e+00],\n",
       "        [ 4.66666667e+00],\n",
       "        [ 4.75000000e+00],\n",
       "        [ 4.83333334e+00],\n",
       "        [ 4.91666667e+00],\n",
       "        [ 5.00000000e+00],\n",
       "        [ 5.08333334e+00],\n",
       "        [ 5.16666667e+00],\n",
       "        [ 5.25000000e+00],\n",
       "        [ 5.33333334e+00],\n",
       "        [ 5.41666667e+00],\n",
       "        [ 5.50000000e+00],\n",
       "        [ 5.58333334e+00],\n",
       "        [ 5.66666667e+00],\n",
       "        [ 5.75000000e+00],\n",
       "        [ 5.83333334e+00],\n",
       "        [ 5.91666667e+00],\n",
       "        [ 6.00000000e+00],\n",
       "        [ 6.08333334e+00],\n",
       "        [ 6.16666667e+00],\n",
       "        [ 6.25000000e+00],\n",
       "        [ 6.33333334e+00],\n",
       "        [ 6.41666667e+00],\n",
       "        [ 6.50000000e+00],\n",
       "        [ 6.58333334e+00],\n",
       "        [ 6.66666667e+00],\n",
       "        [ 6.75000000e+00],\n",
       "        [ 6.83333334e+00],\n",
       "        [ 6.91666667e+00],\n",
       "        [ 7.00000000e+00],\n",
       "        [ 7.08333334e+00],\n",
       "        [ 7.16666667e+00],\n",
       "        [ 7.25000000e+00],\n",
       "        [ 7.33333334e+00],\n",
       "        [ 7.41666667e+00],\n",
       "        [ 7.50000000e+00],\n",
       "        [ 7.58333334e+00],\n",
       "        [ 7.66666307e+00],\n",
       "        [ 7.75003784e+00],\n",
       "        [ 7.83295792e+00],\n",
       "        [ 7.92038306e+00],\n",
       "        [ 7.96321141e+00],\n",
       "        [ 8.44750288e+00],\n",
       "        [ 4.56175983e+00],\n",
       "        [ 4.39348989e+01],\n",
       "        [-3.44910748e+02]])"
      ]
     },
     "execution_count": 12,
     "metadata": {},
     "output_type": "execute_result"
    }
   ],
   "source": [
    "solution, rs = solveSeidel(A, f, n, 1e-5)\n",
    "solution"
   ]
  },
  {
   "cell_type": "code",
   "execution_count": 13,
   "metadata": {},
   "outputs": [
    {
     "data": {
      "text/plain": [
       "4.078813365623585e-06"
      ]
     },
     "execution_count": 13,
     "metadata": {},
     "output_type": "execute_result"
    }
   ],
   "source": [
    "calcResidual(A, f, solution)"
   ]
  },
  {
   "cell_type": "code",
   "execution_count": 14,
   "metadata": {},
   "outputs": [
    {
     "data": {
      "image/png": "[encoded data removed]",
      "text/plain": [
       "<Figure size 2000x1000 with 1 Axes>"
      ]
     },
     "metadata": {},
     "output_type": "display_data"
    }
   ],
   "source": [
    "makePlot(rs, \"Seidel method residual decreasing\")"
   ]
  },
  {
   "cell_type": "markdown",
   "metadata": {},
   "source": [
    "## Jacobi"
   ]
  },
  {
   "cell_type": "code",
   "execution_count": 15,
   "metadata": {},
   "outputs": [],
   "source": [
    "def solveJacobi(A, f, n, delta_th):\n",
    "    A = np.matrix(A)\n",
    "    f = np.matrix(f)\n",
    "\n",
    "    i, j = np.indices(A.shape)\n",
    "    X = np.matrix(np.zeros((n + 1, 1)))\n",
    "    D = np.matrix(np.zeros((n + 1, n + 1)))\n",
    "    D[i, i] = A[i, i]\n",
    "    R = A - D\n",
    "    rs = list()\n",
    "\n",
    "    while True:\n",
    "        prev_X = np.matrix(X)\n",
    "\n",
    "        X = np.linalg.inv(D) * (f - R * X)\n",
    "\n",
    "        rs.append(calcResidual(A, f, X))\n",
    "        if normVector(X - prev_X) < delta_th:\n",
    "            break\n",
    "\n",
    "    return X, np.array(rs)"
   ]
  },
  {
   "cell_type": "code",
   "execution_count": 16,
   "metadata": {},
   "outputs": [
    {
     "data": {
      "text/plain": [
       "matrix([[ 8.33333333e-02],\n",
       "        [ 1.66666667e-01],\n",
       "        [ 2.50000000e-01],\n",
       "        [ 3.33333333e-01],\n",
       "        [ 4.16666667e-01],\n",
       "        [ 5.00000000e-01],\n",
       "        [ 5.83333333e-01],\n",
       "        [ 6.66666667e-01],\n",
       "        [ 7.50000000e-01],\n",
       "        [ 8.33333333e-01],\n",
       "        [ 9.16666667e-01],\n",
       "        [ 1.00000000e+00],\n",
       "        [ 1.08333333e+00],\n",
       "        [ 1.16666667e+00],\n",
       "        [ 1.25000000e+00],\n",
       "        [ 1.33333333e+00],\n",
       "        [ 1.41666667e+00],\n",
       "        [ 1.50000000e+00],\n",
       "        [ 1.58333333e+00],\n",
       "        [ 1.66666667e+00],\n",
       "        [ 1.75000000e+00],\n",
       "        [ 1.83333333e+00],\n",
       "        [ 1.91666667e+00],\n",
       "        [ 2.00000000e+00],\n",
       "        [ 2.08333333e+00],\n",
       "        [ 2.16666667e+00],\n",
       "        [ 2.25000000e+00],\n",
       "        [ 2.33333333e+00],\n",
       "        [ 2.41666667e+00],\n",
       "        [ 2.50000000e+00],\n",
       "        [ 2.58333333e+00],\n",
       "        [ 2.66666667e+00],\n",
       "        [ 2.75000000e+00],\n",
       "        [ 2.83333333e+00],\n",
       "        [ 2.91666667e+00],\n",
       "        [ 3.00000000e+00],\n",
       "        [ 3.08333333e+00],\n",
       "        [ 3.16666667e+00],\n",
       "        [ 3.25000000e+00],\n",
       "        [ 3.33333333e+00],\n",
       "        [ 3.41666667e+00],\n",
       "        [ 3.50000000e+00],\n",
       "        [ 3.58333333e+00],\n",
       "        [ 3.66666667e+00],\n",
       "        [ 3.75000000e+00],\n",
       "        [ 3.83333333e+00],\n",
       "        [ 3.91666667e+00],\n",
       "        [ 4.00000000e+00],\n",
       "        [ 4.08333333e+00],\n",
       "        [ 4.16666667e+00],\n",
       "        [ 4.25000000e+00],\n",
       "        [ 4.33333333e+00],\n",
       "        [ 4.41666667e+00],\n",
       "        [ 4.50000000e+00],\n",
       "        [ 4.58333333e+00],\n",
       "        [ 4.66666667e+00],\n",
       "        [ 4.75000000e+00],\n",
       "        [ 4.83333333e+00],\n",
       "        [ 4.91666667e+00],\n",
       "        [ 5.00000000e+00],\n",
       "        [ 5.08333333e+00],\n",
       "        [ 5.16666667e+00],\n",
       "        [ 5.25000000e+00],\n",
       "        [ 5.33333333e+00],\n",
       "        [ 5.41666667e+00],\n",
       "        [ 5.50000000e+00],\n",
       "        [ 5.58333333e+00],\n",
       "        [ 5.66666667e+00],\n",
       "        [ 5.75000000e+00],\n",
       "        [ 5.83333333e+00],\n",
       "        [ 5.91666667e+00],\n",
       "        [ 6.00000000e+00],\n",
       "        [ 6.08333333e+00],\n",
       "        [ 6.16666667e+00],\n",
       "        [ 6.25000000e+00],\n",
       "        [ 6.33333333e+00],\n",
       "        [ 6.41666667e+00],\n",
       "        [ 6.50000000e+00],\n",
       "        [ 6.58333333e+00],\n",
       "        [ 6.66666667e+00],\n",
       "        [ 6.75000000e+00],\n",
       "        [ 6.83333333e+00],\n",
       "        [ 6.91666667e+00],\n",
       "        [ 7.00000000e+00],\n",
       "        [ 7.08333333e+00],\n",
       "        [ 7.16666667e+00],\n",
       "        [ 7.25000000e+00],\n",
       "        [ 7.33333333e+00],\n",
       "        [ 7.41666667e+00],\n",
       "        [ 7.49999996e+00],\n",
       "        [ 7.58333372e+00],\n",
       "        [ 7.66666284e+00],\n",
       "        [ 7.75003793e+00],\n",
       "        [ 7.83295790e+00],\n",
       "        [ 7.92038307e+00],\n",
       "        [ 7.96321142e+00],\n",
       "        [ 8.44750291e+00],\n",
       "        [ 4.56175995e+00],\n",
       "        [ 4.39348993e+01],\n",
       "        [-3.44910747e+02]])"
      ]
     },
     "execution_count": 16,
     "metadata": {},
     "output_type": "execute_result"
    }
   ],
   "source": [
    "solution, rs = solveJacobi(A, f, n, 1e-5)\n",
    "solution"
   ]
  },
  {
   "cell_type": "code",
   "execution_count": 17,
   "metadata": {},
   "outputs": [
    {
     "data": {
      "text/plain": [
       "6.866713229938019e-06"
      ]
     },
     "execution_count": 17,
     "metadata": {},
     "output_type": "execute_result"
    }
   ],
   "source": [
    "calcResidual(A, f, solution)"
   ]
  },
  {
   "cell_type": "code",
   "execution_count": 18,
   "metadata": {},
   "outputs": [
    {
     "data": {
      "image/png": "[encoded data removed]",
      "text/plain": [
       "<Figure size 2000x1000 with 1 Axes>"
      ]
     },
     "metadata": {},
     "output_type": "display_data"
    }
   ],
   "source": [
    "makePlot(rs, \"Jacobi method residual decreasing\")"
   ]
  },
  {
   "cell_type": "markdown",
   "metadata": {},
   "source": [
    "## Upper-relaxation"
   ]
  },
  {
   "cell_type": "code",
   "execution_count": 19,
   "metadata": {},
   "outputs": [],
   "source": [
    "def solveUpperRelaxation(A, f, n, w, delta_th):\n",
    "    A = np.matrix(A)\n",
    "    f = np.matrix(f)\n",
    "\n",
    "    X = np.matrix(np.zeros((n + 1, 1)))\n",
    "    rs = list()\n",
    "\n",
    "    while True:\n",
    "        prev_X = np.matrix(X)\n",
    "\n",
    "        for i in range(n + 1):\n",
    "            row_sum = A[i, :i] * X[:i] + A[i, i + 1:] * X[i + 1:]\n",
    "            X[i] = (1 - w) * prev_X[i] + w * (f[i] - row_sum) / A[i, i]\n",
    "\n",
    "        rs.append(calcResidual(A, f, X))\n",
    "        if normVector(X - prev_X) < delta_th:\n",
    "            break\n",
    "\n",
    "    return X, np.array(rs)"
   ]
  },
  {
   "cell_type": "code",
   "execution_count": 20,
   "metadata": {},
   "outputs": [
    {
     "data": {
      "text/plain": [
       "matrix([[ 8.33333339e-02],\n",
       "        [ 1.66666667e-01],\n",
       "        [ 2.50000001e-01],\n",
       "        [ 3.33333334e-01],\n",
       "        [ 4.16666667e-01],\n",
       "        [ 5.00000001e-01],\n",
       "        [ 5.83333334e-01],\n",
       "        [ 6.66666667e-01],\n",
       "        [ 7.50000001e-01],\n",
       "        [ 8.33333334e-01],\n",
       "        [ 9.16666668e-01],\n",
       "        [ 1.00000000e+00],\n",
       "        [ 1.08333333e+00],\n",
       "        [ 1.16666667e+00],\n",
       "        [ 1.25000000e+00],\n",
       "        [ 1.33333333e+00],\n",
       "        [ 1.41666667e+00],\n",
       "        [ 1.50000000e+00],\n",
       "        [ 1.58333333e+00],\n",
       "        [ 1.66666667e+00],\n",
       "        [ 1.75000000e+00],\n",
       "        [ 1.83333333e+00],\n",
       "        [ 1.91666667e+00],\n",
       "        [ 2.00000000e+00],\n",
       "        [ 2.08333333e+00],\n",
       "        [ 2.16666667e+00],\n",
       "        [ 2.25000000e+00],\n",
       "        [ 2.33333334e+00],\n",
       "        [ 2.41666667e+00],\n",
       "        [ 2.50000000e+00],\n",
       "        [ 2.58333334e+00],\n",
       "        [ 2.66666667e+00],\n",
       "        [ 2.75000000e+00],\n",
       "        [ 2.83333334e+00],\n",
       "        [ 2.91666667e+00],\n",
       "        [ 3.00000000e+00],\n",
       "        [ 3.08333334e+00],\n",
       "        [ 3.16666667e+00],\n",
       "        [ 3.25000000e+00],\n",
       "        [ 3.33333334e+00],\n",
       "        [ 3.41666667e+00],\n",
       "        [ 3.50000000e+00],\n",
       "        [ 3.58333334e+00],\n",
       "        [ 3.66666667e+00],\n",
       "        [ 3.75000000e+00],\n",
       "        [ 3.83333334e+00],\n",
       "        [ 3.91666667e+00],\n",
       "        [ 4.00000000e+00],\n",
       "        [ 4.08333334e+00],\n",
       "        [ 4.16666667e+00],\n",
       "        [ 4.25000000e+00],\n",
       "        [ 4.33333334e+00],\n",
       "        [ 4.41666667e+00],\n",
       "        [ 4.50000000e+00],\n",
       "        [ 4.58333334e+00],\n",
       "        [ 4.66666667e+00],\n",
       "        [ 4.75000000e+00],\n",
       "        [ 4.83333334e+00],\n",
       "        [ 4.91666667e+00],\n",
       "        [ 5.00000000e+00],\n",
       "        [ 5.08333334e+00],\n",
       "        [ 5.16666667e+00],\n",
       "        [ 5.25000000e+00],\n",
       "        [ 5.33333334e+00],\n",
       "        [ 5.41666667e+00],\n",
       "        [ 5.50000000e+00],\n",
       "        [ 5.58333334e+00],\n",
       "        [ 5.66666667e+00],\n",
       "        [ 5.75000000e+00],\n",
       "        [ 5.83333334e+00],\n",
       "        [ 5.91666667e+00],\n",
       "        [ 6.00000000e+00],\n",
       "        [ 6.08333334e+00],\n",
       "        [ 6.16666667e+00],\n",
       "        [ 6.25000000e+00],\n",
       "        [ 6.33333334e+00],\n",
       "        [ 6.41666667e+00],\n",
       "        [ 6.50000000e+00],\n",
       "        [ 6.58333334e+00],\n",
       "        [ 6.66666667e+00],\n",
       "        [ 6.75000000e+00],\n",
       "        [ 6.83333334e+00],\n",
       "        [ 6.91666667e+00],\n",
       "        [ 7.00000000e+00],\n",
       "        [ 7.08333334e+00],\n",
       "        [ 7.16666667e+00],\n",
       "        [ 7.25000000e+00],\n",
       "        [ 7.33333333e+00],\n",
       "        [ 7.41666666e+00],\n",
       "        [ 7.49999993e+00],\n",
       "        [ 7.58333366e+00],\n",
       "        [ 7.66666277e+00],\n",
       "        [ 7.75003788e+00],\n",
       "        [ 7.83295790e+00],\n",
       "        [ 7.92038308e+00],\n",
       "        [ 7.96321139e+00],\n",
       "        [ 8.44750287e+00],\n",
       "        [ 4.56175985e+00],\n",
       "        [ 4.39348989e+01],\n",
       "        [-3.44910748e+02]])"
      ]
     },
     "execution_count": 20,
     "metadata": {},
     "output_type": "execute_result"
    }
   ],
   "source": [
    "solution, rs = solveUpperRelaxation(A, f, n, 1.2, 1e-6)\n",
    "solution"
   ]
  },
  {
   "cell_type": "code",
   "execution_count": 21,
   "metadata": {},
   "outputs": [
    {
     "data": {
      "text/plain": [
       "1.2727567655401674e-06"
      ]
     },
     "execution_count": 21,
     "metadata": {},
     "output_type": "execute_result"
    }
   ],
   "source": [
    "calcResidual(A, f, solution)"
   ]
  },
  {
   "cell_type": "code",
   "execution_count": 22,
   "metadata": {},
   "outputs": [
    {
     "data": {
      "image/png": "[encoded data removed]",
      "text/plain": [
       "<Figure size 2000x1000 with 1 Axes>"
      ]
     },
     "metadata": {},
     "output_type": "display_data"
    }
   ],
   "source": [
    "makePlot(rs, \"Upper-relaxation method residual decreasing\")"
   ]
  }
 ],
 "metadata": {
  "kernelspec": {
   "display_name": ".venv",
   "language": "python",
   "name": "python3"
  },
  "language_info": {
   "codemirror_mode": {
    "name": "ipython",
    "version": 3
   },
   "file_extension": ".py",
   "mimetype": "text/x-python",
   "name": "python",
   "nbconvert_exporter": "python",
   "pygments_lexer": "ipython3",
   "version": "3.11.2"
  }
 },
 "nbformat": 4,
 "nbformat_minor": 2
}
