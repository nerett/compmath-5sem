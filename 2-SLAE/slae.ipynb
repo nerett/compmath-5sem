{
 "cells": [
  {
   "cell_type": "code",
   "execution_count": null,
   "metadata": {},
   "outputs": [],
   "source": [
    "import numpy as np\n",
    "import matplotlib.pyplot as plt\n",
    "import matplotlib\n",
    "\n",
    "print(np.__version__)\n",
    "print(matplotlib.__version__)"
   ]
  },
  {
   "cell_type": "code",
   "execution_count": null,
   "metadata": {},
   "outputs": [],
   "source": [
    "#n = 99\n",
    "n = 4\n",
    "a, b, c, p = 1, 10, 1, 1\n",
    "\n",
    "A = np.matrix(np.zeros((n + 1, n + 1)))\n",
    "i, j = np.indices(A.shape)\n",
    "A[i==j + 1] = 1\n",
    "A[i==j] = 2\n",
    "A[i==j - 1] = 3\n",
    "A[n, j] = p\n",
    "\n",
    "A[i, j] = j + (n + 1) * i + 1\n",
    "\n",
    "f = np.matrix(np.zeros((n + 1, 1)))\n",
    "k, l = np.indices(f.shape)\n",
    "f[k, 0] = k + 1\n",
    "\n",
    "#f[0,0]\n",
    "A"
   ]
  },
  {
   "cell_type": "code",
   "execution_count": null,
   "metadata": {},
   "outputs": [],
   "source": [
    "def normVector(v):\n",
    "    return np.linalg.norm(v)"
   ]
  },
  {
   "cell_type": "code",
   "execution_count": null,
   "metadata": {},
   "outputs": [],
   "source": [
    "def calcResidual(A, X):\n",
    "    r = np.matrix(np.zeros((n + 1, 1)))\n",
    "    r = A * X - f\n",
    "    \n",
    "    return r\n",
    "\n",
    "X = np.matrix(np.zeros((n + 1, 1)))\n",
    "r = calcResidual(A, X)\n",
    "r"
   ]
  },
  {
   "cell_type": "code",
   "execution_count": null,
   "metadata": {},
   "outputs": [],
   "source": [
    "def makePlot():\n",
    "    plt.figure(figsize=(20, 10))\n",
    "\n",
    "    plt.grid()\n",
    "    plt.legend(fontsize=16)\n",
    "    plt.show()"
   ]
  },
  {
   "cell_type": "code",
   "execution_count": null,
   "metadata": {},
   "outputs": [],
   "source": [
    "def solveGauss(A, f, n):\n",
    "    A = np.matrix(A)\n",
    "    f = np.matrix(f)\n",
    "    #i, j = np.indices(A.shape)\n",
    "    #k, l = np.indices(f.shape)\n",
    "    #print(A.shape[0])\n",
    "\n",
    "    for j in range(n):\n",
    "\n",
    "        max_ind = j + np.argmax(np.abs(A[j:, j]))\n",
    "        if max_ind != j:\n",
    "            A[j, :], A[max_ind, :] = np.copy(A[max_ind, :]), np.copy(A[j, :])\n",
    "\n",
    "        for i in range(j + 1, n + 1):\n",
    "            frac = A[i, j] / A[j, j]\n",
    "            #print(frac)\n",
    "            A[i, :] -= A[j, :] * frac\n",
    "\n",
    "    return A"
   ]
  },
  {
   "cell_type": "code",
   "execution_count": null,
   "metadata": {},
   "outputs": [],
   "source": [
    "with np.printoptions(precision=3, suppress=True):\n",
    "    print(solveGauss(A, f, n))"
   ]
  }
 ],
 "metadata": {
  "kernelspec": {
   "display_name": ".venv",
   "language": "python",
   "name": "python3"
  },
  "language_info": {
   "codemirror_mode": {
    "name": "ipython",
    "version": 3
   },
   "file_extension": ".py",
   "mimetype": "text/x-python",
   "name": "python",
   "nbconvert_exporter": "python",
   "pygments_lexer": "ipython3",
   "version": "3.11.2"
  }
 },
 "nbformat": 4,
 "nbformat_minor": 2
}
