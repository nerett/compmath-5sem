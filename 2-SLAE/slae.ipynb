{
 "cells": [
  {
   "cell_type": "code",
   "execution_count": 1,
   "metadata": {},
   "outputs": [
    {
     "name": "stdout",
     "output_type": "stream",
     "text": [
      "1.26.0\n",
      "3.8.0\n",
      "1.11.2\n"
     ]
    }
   ],
   "source": [
    "import numpy as np\n",
    "import matplotlib.pyplot as plt\n",
    "import matplotlib\n",
    "import scipy.linalg\n",
    "import scipy\n",
    "\n",
    "print(np.__version__)\n",
    "print(matplotlib.__version__)\n",
    "print(scipy.__version__)"
   ]
  },
  {
   "cell_type": "code",
   "execution_count": 2,
   "metadata": {},
   "outputs": [
    {
     "data": {
      "text/plain": [
       "matrix([[10.,  1.,  0., ...,  0.,  0.,  0.],\n",
       "        [ 1., 10.,  1., ...,  0.,  0.,  0.],\n",
       "        [ 0.,  1., 10., ...,  0.,  0.,  0.],\n",
       "        ...,\n",
       "        [ 0.,  0.,  0., ..., 10.,  1.,  0.],\n",
       "        [ 0.,  0.,  0., ...,  1., 10.,  1.],\n",
       "        [ 1.,  1.,  1., ...,  1.,  1.,  1.]])"
      ]
     },
     "execution_count": 2,
     "metadata": {},
     "output_type": "execute_result"
    }
   ],
   "source": [
    "n = 99\n",
    "#n = 4\n",
    "a, b, c, p = 1, 10, 1, 1\n",
    "\n",
    "A = np.matrix(np.zeros((n + 1, n + 1)))\n",
    "i, j = np.indices(A.shape)\n",
    "A[i==j + 1] = a\n",
    "A[i==j] = b\n",
    "A[i==j - 1] = c\n",
    "A[n, j] = p\n",
    "\n",
    "#A[i, j] = j + (n + 1) * i + 1\n",
    "\n",
    "f = np.matrix(np.zeros((n + 1, 1)))\n",
    "k, l = np.indices(f.shape)\n",
    "f[k, 0] = k + 1\n",
    "\n",
    "#f[0,0]\n",
    "A"
   ]
  },
  {
   "cell_type": "code",
   "execution_count": 3,
   "metadata": {},
   "outputs": [],
   "source": [
    "def normVector(v):\n",
    "    return np.linalg.norm(v)\n",
    "\n",
    "def __calcResidual(A, f, X):\n",
    "    r = np.matrix(np.zeros((n + 1, 1)))\n",
    "    r = A * X - f\n",
    "    \n",
    "    return r\n",
    "\n",
    "def calcResidual(A, f, X):\n",
    "    return normVector(__calcResidual(A, f, X))"
   ]
  },
  {
   "cell_type": "code",
   "execution_count": 4,
   "metadata": {},
   "outputs": [],
   "source": [
    "def makePlot():\n",
    "    plt.figure(figsize=(20, 10))\n",
    "\n",
    "    plt.grid()\n",
    "    plt.legend(fontsize=16)\n",
    "    plt.show()"
   ]
  },
  {
   "cell_type": "code",
   "execution_count": 5,
   "metadata": {},
   "outputs": [],
   "source": [
    "def solveGauss(A, f, n):\n",
    "    A = np.matrix(A)\n",
    "    f = np.matrix(f)\n",
    "    #i, j = np.indices(A.shape)\n",
    "    #k, l = np.indices(f.shape)\n",
    "    #print(A.shape[0])\n",
    "\n",
    "    for j in range(n):\n",
    "        max_ind = j + np.argmax(np.abs(A[j:, j]))\n",
    "        if max_ind != j:\n",
    "            A[j, :], A[max_ind, :] = np.copy(A[max_ind, :]), np.copy(A[j, :])\n",
    "            f[j, :], f[max_ind, :] = np.copy(f[max_ind, :]), np.copy(f[j, :])\n",
    "\n",
    "        for i in range(j + 1, n + 1):\n",
    "            frac = A[i, j] / A[j, j]\n",
    "            #print(frac)\n",
    "            A[i, :] -= A[j, :] * frac\n",
    "            f[i, :] -= f[j, :] * frac\n",
    "    \n",
    "    if np.any(np.isclose(np.diag(A), 0.0)):\n",
    "        raise Exception(\"Infinite number of solutions!\")\n",
    "\n",
    "    X = np.matrix(np.zeros((n + 1, 1)))\n",
    "    for i in range(n, -1, -1):\n",
    "        X[i, 0] = (f[i, 0] - A[i, i:] * X[i:, 0]) / A[i, i]\n",
    "\n",
    "    return X"
   ]
  },
  {
   "cell_type": "code",
   "execution_count": 6,
   "metadata": {},
   "outputs": [
    {
     "name": "stderr",
     "output_type": "stream",
     "text": [
      "/tmp/ipykernel_19400/1085303398.py:25: DeprecationWarning: Conversion of an array with ndim > 0 to a scalar is deprecated, and will error in future. Ensure you extract a single element from your array before performing this operation. (Deprecated NumPy 1.25.)\n",
      "  X[i, 0] = (f[i, 0] - A[i, i:] * X[i:, 0]) / A[i, i]\n"
     ]
    },
    {
     "data": {
      "text/plain": [
       "1.0883946155170226e-13"
      ]
     },
     "execution_count": 6,
     "metadata": {},
     "output_type": "execute_result"
    }
   ],
   "source": [
    "#with np.printoptions(precision=3, suppress=True):\n",
    "    #solution = solveGauss(A, f, n)\n",
    "    #print(solution)\n",
    "\n",
    "solution = solveGauss(A, f, n)\n",
    "calcResidual(A, f, solution)"
   ]
  },
  {
   "cell_type": "code",
   "execution_count": 7,
   "metadata": {},
   "outputs": [],
   "source": [
    "def __decomposeLU(A, n):\n",
    "    P, L, U = scipy.linalg.lu(A)\n",
    "\n",
    "    L = np.matrix(L)\n",
    "    U = np.matrix(U)\n",
    "    return np.matrix(L), np.matrix(U)\n",
    "\n",
    "def solveLU(A, f, n):\n",
    "    A = np.matrix(A)\n",
    "    f = np.matrix(f)\n",
    "    L, U = __decomposeLU(A, n)\n",
    "\n",
    "    Y = np.matrix(np.zeros((n + 1, 1)))\n",
    "\n",
    "    for i in range(n + 1):\n",
    "        Y[i, 0] = f[i] - L[i, :i] * Y[:i]\n",
    "\n",
    "    X = np.matrix(np.zeros((n + 1, 1)))\n",
    "\n",
    "    for i in range(n, -1, -1):\n",
    "        X[i, 0] = (Y[i] - U[i, i:] * X[i:, 0]) / U[i, i]\n",
    "\n",
    "    return X\n",
    "    "
   ]
  },
  {
   "cell_type": "code",
   "execution_count": 8,
   "metadata": {},
   "outputs": [
    {
     "name": "stderr",
     "output_type": "stream",
     "text": [
      "/tmp/ipykernel_19400/776642697.py:16: DeprecationWarning: Conversion of an array with ndim > 0 to a scalar is deprecated, and will error in future. Ensure you extract a single element from your array before performing this operation. (Deprecated NumPy 1.25.)\n",
      "  Y[i, 0] = f[i] - L[i, :i] * Y[:i]\n",
      "/tmp/ipykernel_19400/776642697.py:21: DeprecationWarning: Conversion of an array with ndim > 0 to a scalar is deprecated, and will error in future. Ensure you extract a single element from your array before performing this operation. (Deprecated NumPy 1.25.)\n",
      "  X[i, 0] = (Y[i] - U[i, i:] * X[i:, 0]) / U[i, i]\n"
     ]
    },
    {
     "data": {
      "text/plain": [
       "7.868591628900475e-14"
      ]
     },
     "execution_count": 8,
     "metadata": {},
     "output_type": "execute_result"
    }
   ],
   "source": [
    "solution = solveLU(A, f, n)\n",
    "calcResidual(A, f, solution)"
   ]
  },
  {
   "cell_type": "code",
   "execution_count": 50,
   "metadata": {},
   "outputs": [],
   "source": [
    "def solveSeidel(A, f, n, delta_th):\n",
    "    A = np.matrix(A)\n",
    "    f = np.matrix(f)\n",
    "    \n",
    "    X = np.matrix(np.zeros((n + 1, 1)))\n",
    "    rs = list()\n",
    "\n",
    "    while True:\n",
    "        prev_X = np.matrix(X)\n",
    "\n",
    "        for i in range(n + 1):\n",
    "            X[i] = (f[i] - (A[i, :i] * X[:i] + A[i, i+1:] * X[i+1:])) / A[i, i]\n",
    "\n",
    "        rs.append(calcResidual(A, f, X))\n",
    "        if normVector(X - prev_X) < delta_th:\n",
    "            break\n",
    "    \n",
    "    return X, np.array(rs)"
   ]
  },
  {
   "cell_type": "code",
   "execution_count": 51,
   "metadata": {},
   "outputs": [
    {
     "data": {
      "text/plain": [
       "4.078813365623585e-06"
      ]
     },
     "execution_count": 51,
     "metadata": {},
     "output_type": "execute_result"
    }
   ],
   "source": [
    "solution, rs = solveSeidel(A, f, n, 1e-5)\n",
    "calcResidual(A, f, solution)"
   ]
  }
 ],
 "metadata": {
  "kernelspec": {
   "display_name": ".venv",
   "language": "python",
   "name": "python3"
  },
  "language_info": {
   "codemirror_mode": {
    "name": "ipython",
    "version": 3
   },
   "file_extension": ".py",
   "mimetype": "text/x-python",
   "name": "python",
   "nbconvert_exporter": "python",
   "pygments_lexer": "ipython3",
   "version": "3.11.2"
  }
 },
 "nbformat": 4,
 "nbformat_minor": 2
}
