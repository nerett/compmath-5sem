{
 "cells": [
  {
   "cell_type": "code",
   "execution_count": 1,
   "metadata": {},
   "outputs": [
    {
     "name": "stdout",
     "output_type": "stream",
     "text": [
      "1.26.0\n",
      "3.8.0\n",
      "1.11.2\n"
     ]
    }
   ],
   "source": [
    "import numpy as np\n",
    "import matplotlib.pyplot as plt\n",
    "import matplotlib\n",
    "import scipy.linalg\n",
    "import scipy\n",
    "\n",
    "print(np.__version__)\n",
    "print(matplotlib.__version__)\n",
    "print(scipy.__version__)"
   ]
  },
  {
   "cell_type": "code",
   "execution_count": null,
   "metadata": {},
   "outputs": [],
   "source": []
  },
  {
   "cell_type": "code",
   "execution_count": 2,
   "metadata": {},
   "outputs": [],
   "source": [
    "def normVector(v):\n",
    "    return np.linalg.norm(v)\n",
    "\n",
    "def __calcResidual(A, f, X):\n",
    "    r = np.matrix(np.zeros((n + 1, 1)))\n",
    "    r = A * X - f\n",
    "    \n",
    "    return r\n",
    "\n",
    "def calcResidual(A, f, X):\n",
    "    return normVector(__calcResidual(A, f, X))"
   ]
  },
  {
   "cell_type": "code",
   "execution_count": 3,
   "metadata": {},
   "outputs": [],
   "source": [
    "def makePlot(y, title):\n",
    "    plt.figure(figsize=(20, 10))\n",
    "\n",
    "    x = np.arange(len(y))\n",
    "    plt.plot(x, y, 'o--')\n",
    "    plt.xlabel(r'$ iteration $', fontsize=16)\n",
    "    plt.ylabel(r'$ ||r|| $', fontsize=16)\n",
    "\n",
    "    plt.title(title, fontsize=16)\n",
    "    plt.grid()\n",
    "    #plt.legend(fontsize=16)\n",
    "    plt.show()"
   ]
  },
  {
   "cell_type": "markdown",
   "metadata": {},
   "source": [
    "## Non-linear equation"
   ]
  },
  {
   "cell_type": "code",
   "execution_count": 4,
   "metadata": {},
   "outputs": [],
   "source": [
    "def equation_sim(phi, x0, accuracy):\n",
    "    rs = list()\n",
    "    x = x0\n",
    "\n",
    "    while True:\n",
    "        prev_x = x\n",
    "        x = phi(x)\n",
    "\n",
    "        rs.append(abs(prev_x - x))\n",
    "        if rs[-1] < accuracy:\n",
    "            break\n",
    "\n",
    "    return x, rs\n",
    "\n",
    "def equation_newton(u, x0, accuracy):\n",
    "    pass"
   ]
  },
  {
   "cell_type": "code",
   "execution_count": 7,
   "metadata": {},
   "outputs": [
    {
     "data": {
      "text/plain": [
       "0.5000017851488853"
      ]
     },
     "execution_count": 7,
     "metadata": {},
     "output_type": "execute_result"
    }
   ],
   "source": [
    "x, rs = equation_sim(lambda x: 1/5 * (-2*(x**2) + 3), 0, 1e-5)\n",
    "x"
   ]
  }
 ],
 "metadata": {
  "kernelspec": {
   "display_name": ".venv",
   "language": "python",
   "name": "python3"
  },
  "language_info": {
   "codemirror_mode": {
    "name": "ipython",
    "version": 3
   },
   "file_extension": ".py",
   "mimetype": "text/x-python",
   "name": "python",
   "nbconvert_exporter": "python",
   "pygments_lexer": "ipython3",
   "version": "3.11.2"
  }
 },
 "nbformat": 4,
 "nbformat_minor": 2
}
