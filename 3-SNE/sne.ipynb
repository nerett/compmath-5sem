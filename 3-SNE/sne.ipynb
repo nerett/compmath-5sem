{
 "cells": [
  {
   "cell_type": "code",
   "execution_count": null,
   "metadata": {},
   "outputs": [],
   "source": [
    "import numpy as np\n",
    "import matplotlib.pyplot as plt\n",
    "import matplotlib\n",
    "import scipy.linalg\n",
    "import scipy\n",
    "\n",
    "print(np.__version__)\n",
    "print(matplotlib.__version__)\n",
    "print(scipy.__version__)"
   ]
  },
  {
   "cell_type": "code",
   "execution_count": null,
   "metadata": {},
   "outputs": [],
   "source": []
  },
  {
   "cell_type": "code",
   "execution_count": null,
   "metadata": {},
   "outputs": [],
   "source": [
    "def normVector(v):\n",
    "    return np.linalg.norm(v)\n",
    "\n",
    "def __calcResidual(A, f, X):\n",
    "    r = np.matrix(np.zeros((n + 1, 1)))\n",
    "    r = A * X - f\n",
    "    \n",
    "    return r\n",
    "\n",
    "def calcResidual(A, f, X):\n",
    "    return normVector(__calcResidual(A, f, X))"
   ]
  },
  {
   "cell_type": "code",
   "execution_count": null,
   "metadata": {},
   "outputs": [],
   "source": [
    "def makePlot(y, title):\n",
    "    plt.figure(figsize=(20, 10))\n",
    "\n",
    "    x = np.arange(len(y))\n",
    "    plt.plot(x, y, 'o--')\n",
    "    plt.xlabel(r'$ iteration $', fontsize=16)\n",
    "    plt.ylabel(r'$ ||r|| $', fontsize=16)\n",
    "\n",
    "    plt.title(title, fontsize=16)\n",
    "    plt.grid()\n",
    "    #plt.legend(fontsize=16)\n",
    "    plt.show()"
   ]
  }
 ],
 "metadata": {
  "kernelspec": {
   "display_name": ".venv",
   "language": "python",
   "name": "python3"
  },
  "language_info": {
   "codemirror_mode": {
    "name": "ipython",
    "version": 3
   },
   "file_extension": ".py",
   "mimetype": "text/x-python",
   "name": "python",
   "nbconvert_exporter": "python",
   "pygments_lexer": "ipython3",
   "version": "3.11.2"
  }
 },
 "nbformat": 4,
 "nbformat_minor": 2
}
